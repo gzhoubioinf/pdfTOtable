{
 "cells": [
  {
   "cell_type": "code",
   "execution_count": 6,
   "id": "28f82d05-840b-4641-a247-7b047ad386ea",
   "metadata": {
    "tags": [],
    "ExecuteTime": {
     "end_time": "2025-03-16T12:12:23.372175Z",
     "start_time": "2025-03-16T12:12:23.356588Z"
    }
   },
   "outputs": [],
   "source": [
    "import tabula\n",
    "\n",
    "# Specify the path to the PDF file\n",
    "pdf_path = './AB1_CUT.pdf'\n",
    "outputfilename = './Final_AST_AB1.csv'\n",
    "textfilename = './AB1.txt'"
   ]
  },
  {
   "cell_type": "code",
   "execution_count": 7,
   "id": "a339da1f-b00e-4608-9d69-240faa49fef1",
   "metadata": {
    "tags": [],
    "ExecuteTime": {
     "end_time": "2025-03-16T12:12:26.552455Z",
     "start_time": "2025-03-16T12:12:24.437229Z"
    }
   },
   "outputs": [],
   "source": [
    "# Read the table from the PDF file\n",
    "dfs = tabula.read_pdf(pdf_path,  multiple_tables=True, pages='all')\n",
    "# Specify the path to the CSV file"
   ]
  },
  {
   "cell_type": "code",
   "execution_count": 8,
   "id": "0227dea2-21af-4fa4-9333-8d5531f35771",
   "metadata": {
    "tags": [],
    "ExecuteTime": {
     "end_time": "2025-03-16T12:12:33.955744Z",
     "start_time": "2025-03-16T12:12:33.909114Z"
    }
   },
   "outputs": [
    {
     "data": {
      "text/plain": "                   Antimicrobial     MIC Interpretation  \\\n0                   +Amoxicillin     NaN              R   \n1                    +Ampicillin     NaN              R   \n2   +Amoxicillin/Clavulanic Acid     NaN              R   \n3           Ampicillin/Sulbactam      16              I   \n4                  +Piperacillin     NaN              R   \n5        Piperacillin/Tazobactam  >= 128              R   \n6                      +Cefaclor     NaN              R   \n7                    +Cefuroxime     NaN              R   \n8                      +Cefixime     NaN              R   \n9                   +Cefpodoxime     NaN              R   \n10                    Cefotaxime   >= 64              R   \n11                   Ceftazidime   >= 64              R   \n12                  +Ceftizoxime     NaN              R   \n13                  +Ceftriaxone     NaN              R   \n14         Ceftazidime/Avibactam     NaN            NaN   \n\n                    Antimicrobial.1   MIC.1 Interpretation.1  \n0            Ceftolozane/Tazobactam     NaN              NaN  \n1                          Cefepime   >= 32                R  \n2                        +Aztreonam     NaN                R  \n3                          Imipenem   >= 16                R  \n4                         Meropenem   >= 16                R  \n5                          Amikacin   >= 64                R  \n6                        Gentamicin     NaN              NaN  \n7                     Ciprofloxacin    >= 4                R  \n8                     +Levofloxacin     NaN                R  \n9                      +Norfloxacin     NaN                R  \n10                       +Ofloxacin     NaN                R  \n11                      Tigecycline     NaN              NaN  \n12                         Colistin     NaN              NaN  \n13  Trimethoprim/\\rSulfamethoxazole  >= 320                R  \n14                              NaN     NaN              NaN  ",
      "text/html": "<div>\n<style scoped>\n    .dataframe tbody tr th:only-of-type {\n        vertical-align: middle;\n    }\n\n    .dataframe tbody tr th {\n        vertical-align: top;\n    }\n\n    .dataframe thead th {\n        text-align: right;\n    }\n</style>\n<table border=\"1\" class=\"dataframe\">\n  <thead>\n    <tr style=\"text-align: right;\">\n      <th></th>\n      <th>Antimicrobial</th>\n      <th>MIC</th>\n      <th>Interpretation</th>\n      <th>Antimicrobial.1</th>\n      <th>MIC.1</th>\n      <th>Interpretation.1</th>\n    </tr>\n  </thead>\n  <tbody>\n    <tr>\n      <th>0</th>\n      <td>+Amoxicillin</td>\n      <td>NaN</td>\n      <td>R</td>\n      <td>Ceftolozane/Tazobactam</td>\n      <td>NaN</td>\n      <td>NaN</td>\n    </tr>\n    <tr>\n      <th>1</th>\n      <td>+Ampicillin</td>\n      <td>NaN</td>\n      <td>R</td>\n      <td>Cefepime</td>\n      <td>&gt;= 32</td>\n      <td>R</td>\n    </tr>\n    <tr>\n      <th>2</th>\n      <td>+Amoxicillin/Clavulanic Acid</td>\n      <td>NaN</td>\n      <td>R</td>\n      <td>+Aztreonam</td>\n      <td>NaN</td>\n      <td>R</td>\n    </tr>\n    <tr>\n      <th>3</th>\n      <td>Ampicillin/Sulbactam</td>\n      <td>16</td>\n      <td>I</td>\n      <td>Imipenem</td>\n      <td>&gt;= 16</td>\n      <td>R</td>\n    </tr>\n    <tr>\n      <th>4</th>\n      <td>+Piperacillin</td>\n      <td>NaN</td>\n      <td>R</td>\n      <td>Meropenem</td>\n      <td>&gt;= 16</td>\n      <td>R</td>\n    </tr>\n    <tr>\n      <th>5</th>\n      <td>Piperacillin/Tazobactam</td>\n      <td>&gt;= 128</td>\n      <td>R</td>\n      <td>Amikacin</td>\n      <td>&gt;= 64</td>\n      <td>R</td>\n    </tr>\n    <tr>\n      <th>6</th>\n      <td>+Cefaclor</td>\n      <td>NaN</td>\n      <td>R</td>\n      <td>Gentamicin</td>\n      <td>NaN</td>\n      <td>NaN</td>\n    </tr>\n    <tr>\n      <th>7</th>\n      <td>+Cefuroxime</td>\n      <td>NaN</td>\n      <td>R</td>\n      <td>Ciprofloxacin</td>\n      <td>&gt;= 4</td>\n      <td>R</td>\n    </tr>\n    <tr>\n      <th>8</th>\n      <td>+Cefixime</td>\n      <td>NaN</td>\n      <td>R</td>\n      <td>+Levofloxacin</td>\n      <td>NaN</td>\n      <td>R</td>\n    </tr>\n    <tr>\n      <th>9</th>\n      <td>+Cefpodoxime</td>\n      <td>NaN</td>\n      <td>R</td>\n      <td>+Norfloxacin</td>\n      <td>NaN</td>\n      <td>R</td>\n    </tr>\n    <tr>\n      <th>10</th>\n      <td>Cefotaxime</td>\n      <td>&gt;= 64</td>\n      <td>R</td>\n      <td>+Ofloxacin</td>\n      <td>NaN</td>\n      <td>R</td>\n    </tr>\n    <tr>\n      <th>11</th>\n      <td>Ceftazidime</td>\n      <td>&gt;= 64</td>\n      <td>R</td>\n      <td>Tigecycline</td>\n      <td>NaN</td>\n      <td>NaN</td>\n    </tr>\n    <tr>\n      <th>12</th>\n      <td>+Ceftizoxime</td>\n      <td>NaN</td>\n      <td>R</td>\n      <td>Colistin</td>\n      <td>NaN</td>\n      <td>NaN</td>\n    </tr>\n    <tr>\n      <th>13</th>\n      <td>+Ceftriaxone</td>\n      <td>NaN</td>\n      <td>R</td>\n      <td>Trimethoprim/\\rSulfamethoxazole</td>\n      <td>&gt;= 320</td>\n      <td>R</td>\n    </tr>\n    <tr>\n      <th>14</th>\n      <td>Ceftazidime/Avibactam</td>\n      <td>NaN</td>\n      <td>NaN</td>\n      <td>NaN</td>\n      <td>NaN</td>\n      <td>NaN</td>\n    </tr>\n  </tbody>\n</table>\n</div>"
     },
     "execution_count": 8,
     "metadata": {},
     "output_type": "execute_result"
    }
   ],
   "source": [
    "dfs[2]"
   ]
  },
  {
   "cell_type": "markdown",
   "source": [
    "# Checking repeated patients"
   ],
   "metadata": {
    "collapsed": false
   },
   "id": "fe8a9ffb0a0036a"
  },
  {
   "cell_type": "code",
   "execution_count": 9,
   "id": "35c90e97-4428-409e-a019-cd243644eb64",
   "metadata": {
    "tags": [],
    "ExecuteTime": {
     "end_time": "2025-03-16T12:13:00.256004Z",
     "start_time": "2025-03-16T12:13:00.237773Z"
    }
   },
   "outputs": [
    {
     "name": "stdout",
     "output_type": "stream",
     "text": [
      "['R858', 'D90', 'N1092'] 3\n",
      "['R858', 'D90', 'N1092'] 3\n",
      "3\n",
      "Test: repeated patient\n"
     ]
    }
   ],
   "source": [
    "patient_names_list = []\n",
    "patient_names_list_total =[]\n",
    "name_to_be_add = []\n",
    "ii = 0\n",
    "with open(textfilename,'r') as f:\n",
    "    lines = f.readlines()\n",
    "    for line in lines:\n",
    "            \n",
    "        ls = line.split()\n",
    "        \n",
    "        if len(ls) <=2:\n",
    "             continue\n",
    "        if ls[0] == 'Patient' and ls[1] == 'Name:':\n",
    "            # print(ls)\n",
    "            \n",
    "            # print(ls)\n",
    "            # ii +=1 \n",
    "            flag = True\n",
    "            for ind in range(2,len(ls)):\n",
    "                if ls[ind] == 'Patient':\n",
    "                    name_to_be_add = ''.join(ls[2:ind])\n",
    "                    break\n",
    "                    \n",
    "        if ls[0] == 'Susceptibility':\n",
    "            patient_names_list_total.append(name_to_be_add)\n",
    "            if name_to_be_add not in patient_names_list:\n",
    "                patient_names_list.append(name_to_be_add)\n",
    "                ii += 1\n",
    "        \n",
    "print(patient_names_list,len(patient_names_list))\n",
    "print(patient_names_list_total,len(patient_names_list_total))\n",
    "print(ii)\n",
    "print('Test: repeated patient')\n",
    "for x in patient_names_list:\n",
    "    if patient_names_list_total.count(x) > 1:\n",
    "        print(x)"
   ]
  },
  {
   "cell_type": "markdown",
   "source": [
    "# new_method checking for duplicates"
   ],
   "metadata": {
    "collapsed": false
   },
   "id": "c63d053078fe4aeb"
  },
  {
   "cell_type": "code",
   "execution_count": 10,
   "id": "e8193d46-9f33-46e9-ba6c-cc0f335569ab",
   "metadata": {
    "tags": [],
    "ExecuteTime": {
     "end_time": "2025-03-16T12:13:20.415850Z",
     "start_time": "2025-03-16T12:13:20.392703Z"
    }
   },
   "outputs": [
    {
     "name": "stdout",
     "output_type": "stream",
     "text": [
      "['R858', 'D90', 'N1092']\n",
      "3\n"
     ]
    }
   ],
   "source": [
    "patient_id = []\n",
    "ii =1 \n",
    "with open('./AB1.txt','r') as f:\n",
    "    lines = f.readlines()\n",
    "    for line in lines:\n",
    "        ii=ii+1\n",
    "        # if ii<10:\n",
    "        #     print(line)\n",
    "        \n",
    "        ls = line.split()\n",
    "        if len(ls)>=2 and ls[0] == 'Patient' and ls[1]=='Name:':\n",
    "            # print(ls)\n",
    "            #print(ls)\n",
    "            patient_id.append(ls[2])\n",
    "            if ls[2] == 'R':\n",
    "                print(ls)\n",
    "patient_id_unique = []\n",
    "patient_id_unique.append( patient_id[0])\n",
    "for x in patient_id:\n",
    "    if x != patient_id_unique[-1]:\n",
    "        if x in patient_id_unique:\n",
    "            print('repeat',x)\n",
    "        patient_id_unique.append(x)\n",
    "# Removing leading hyphen from each sample name in the list\n",
    "patient_id_unique = [name.lstrip('-') for name in patient_id_unique]        \n",
    "print(patient_id_unique)\n",
    "print(len(patient_id_unique))"
   ]
  },
  {
   "cell_type": "code",
   "execution_count": 11,
   "id": "77e440bf-4440-4858-95e3-0be79a856a64",
   "metadata": {
    "tags": [],
    "ExecuteTime": {
     "end_time": "2025-03-16T12:13:38.609433Z",
     "start_time": "2025-03-16T12:13:38.567766Z"
    }
   },
   "outputs": [],
   "source": [
    "# Iterate over the tables and save each one as a CSV file\n",
    "name_id = 0\n",
    "total_tab = 0\n",
    "out_name = []\n",
    "\n",
    "for i, df in enumerate(dfs):\n",
    "    df_cl = df.columns\n",
    "    if 'Antimicrobial' in df_cl and 'MIC' in df_cl:\n",
    "        total_tab += 1\n",
    "        for ii in range(len(df)):\n",
    "            for x in df.columns:\n",
    "                a = str(df.loc[ii,x]).replace('\\r','')\n",
    "                df.loc[ii,x] = a\n",
    "                if df.loc[ii,x] == 'Amoxicillin/Clavulanic A':\n",
    "                    df.loc[ii,x] = 'Amoxicillin/Clavulanic Acid'\n",
    "                elif df.loc[ii,x] =='Trimethoprim/':\n",
    "                    df.loc[ii,x] = 'Trimethoprim/Sulfamethoxazole'\n",
    "                elif df.loc[ii,x] == 'Sulfamethoxazole' :\n",
    "                    df.loc[ii,x] = None\n",
    "                elif df.loc[ii,x] == 'Gentamicin High Level' :\n",
    "                    df.loc[ii,x] = 'Gentamicin High Level(synergy)' \n",
    "                elif df.loc[ii,x] == '(synergy)':\n",
    "                    df.loc[ii,x] = None\n",
    "                elif df.loc[ii,x] == 'Streptomycin High Level' :\n",
    "                    df.loc[ii,x] = 'Streptomycin High Level(synergy)' \n",
    "                elif df.loc[ii,x] == 'Inducible Clindamycin':\n",
    "                    df.loc[ii,x] = 'Inducible Clindamycin Resistance'\n",
    "                elif df.loc[ii,x] == 'Resistance':\n",
    "                    df.loc[ii,x] = None\n",
    "                elif df.loc[ii,x]=='Inducible ClindamycinResistance':\n",
    "                    df.loc[ii,x] = 'Inducible Clindamycin Resistance'\n",
    "                \n",
    "                \n",
    "        if patient_names_list[name_id] not in out_name:\n",
    "            out_name.append(patient_names_list[name_id])\n",
    "            df.to_csv('./'+patient_names_list[name_id]+'.csv')\n",
    "        \n",
    "        name_id += 1\n",
    "        # else: \n",
    "            # print(patient_names_list[name_id])\n",
    "            \n",
    "# print(name_id, len(patient_names_list))\n",
    "# print(out_name, len(out_name))\n",
    "# print(total_tab)"
   ]
  },
  {
   "cell_type": "code",
   "execution_count": 13,
   "id": "80ff1677-dd10-4d0a-856a-657eeeaf8719",
   "metadata": {
    "tags": [],
    "ExecuteTime": {
     "end_time": "2025-03-16T12:13:51.035143Z",
     "start_time": "2025-03-16T12:13:51.024172Z"
    }
   },
   "outputs": [
    {
     "data": {
      "text/plain": "                   Antimicrobial     MIC Interpretation  \\\n0                   +Amoxicillin     nan              R   \n1                    +Ampicillin     nan              R   \n2   +Amoxicillin/Clavulanic Acid     nan              R   \n3           Ampicillin/Sulbactam      16              I   \n4                  +Piperacillin     nan              R   \n5        Piperacillin/Tazobactam  >= 128              R   \n6                      +Cefaclor     nan              R   \n7                    +Cefuroxime     nan              R   \n8                      +Cefixime     nan              R   \n9                   +Cefpodoxime     nan              R   \n10                    Cefotaxime   >= 64              R   \n11                   Ceftazidime   >= 64              R   \n12                  +Ceftizoxime     nan              R   \n13                  +Ceftriaxone     nan              R   \n14         Ceftazidime/Avibactam     nan            nan   \n\n                  Antimicrobial.1   MIC.1 Interpretation.1  \n0          Ceftolozane/Tazobactam     nan              nan  \n1                        Cefepime   >= 32                R  \n2                      +Aztreonam     nan                R  \n3                        Imipenem   >= 16                R  \n4                       Meropenem   >= 16                R  \n5                        Amikacin   >= 64                R  \n6                      Gentamicin     nan              nan  \n7                   Ciprofloxacin    >= 4                R  \n8                   +Levofloxacin     nan                R  \n9                    +Norfloxacin     nan                R  \n10                     +Ofloxacin     nan                R  \n11                    Tigecycline     nan              nan  \n12                       Colistin     nan              nan  \n13  Trimethoprim/Sulfamethoxazole  >= 320                R  \n14                            nan     nan              nan  ",
      "text/html": "<div>\n<style scoped>\n    .dataframe tbody tr th:only-of-type {\n        vertical-align: middle;\n    }\n\n    .dataframe tbody tr th {\n        vertical-align: top;\n    }\n\n    .dataframe thead th {\n        text-align: right;\n    }\n</style>\n<table border=\"1\" class=\"dataframe\">\n  <thead>\n    <tr style=\"text-align: right;\">\n      <th></th>\n      <th>Antimicrobial</th>\n      <th>MIC</th>\n      <th>Interpretation</th>\n      <th>Antimicrobial.1</th>\n      <th>MIC.1</th>\n      <th>Interpretation.1</th>\n    </tr>\n  </thead>\n  <tbody>\n    <tr>\n      <th>0</th>\n      <td>+Amoxicillin</td>\n      <td>nan</td>\n      <td>R</td>\n      <td>Ceftolozane/Tazobactam</td>\n      <td>nan</td>\n      <td>nan</td>\n    </tr>\n    <tr>\n      <th>1</th>\n      <td>+Ampicillin</td>\n      <td>nan</td>\n      <td>R</td>\n      <td>Cefepime</td>\n      <td>&gt;= 32</td>\n      <td>R</td>\n    </tr>\n    <tr>\n      <th>2</th>\n      <td>+Amoxicillin/Clavulanic Acid</td>\n      <td>nan</td>\n      <td>R</td>\n      <td>+Aztreonam</td>\n      <td>nan</td>\n      <td>R</td>\n    </tr>\n    <tr>\n      <th>3</th>\n      <td>Ampicillin/Sulbactam</td>\n      <td>16</td>\n      <td>I</td>\n      <td>Imipenem</td>\n      <td>&gt;= 16</td>\n      <td>R</td>\n    </tr>\n    <tr>\n      <th>4</th>\n      <td>+Piperacillin</td>\n      <td>nan</td>\n      <td>R</td>\n      <td>Meropenem</td>\n      <td>&gt;= 16</td>\n      <td>R</td>\n    </tr>\n    <tr>\n      <th>5</th>\n      <td>Piperacillin/Tazobactam</td>\n      <td>&gt;= 128</td>\n      <td>R</td>\n      <td>Amikacin</td>\n      <td>&gt;= 64</td>\n      <td>R</td>\n    </tr>\n    <tr>\n      <th>6</th>\n      <td>+Cefaclor</td>\n      <td>nan</td>\n      <td>R</td>\n      <td>Gentamicin</td>\n      <td>nan</td>\n      <td>nan</td>\n    </tr>\n    <tr>\n      <th>7</th>\n      <td>+Cefuroxime</td>\n      <td>nan</td>\n      <td>R</td>\n      <td>Ciprofloxacin</td>\n      <td>&gt;= 4</td>\n      <td>R</td>\n    </tr>\n    <tr>\n      <th>8</th>\n      <td>+Cefixime</td>\n      <td>nan</td>\n      <td>R</td>\n      <td>+Levofloxacin</td>\n      <td>nan</td>\n      <td>R</td>\n    </tr>\n    <tr>\n      <th>9</th>\n      <td>+Cefpodoxime</td>\n      <td>nan</td>\n      <td>R</td>\n      <td>+Norfloxacin</td>\n      <td>nan</td>\n      <td>R</td>\n    </tr>\n    <tr>\n      <th>10</th>\n      <td>Cefotaxime</td>\n      <td>&gt;= 64</td>\n      <td>R</td>\n      <td>+Ofloxacin</td>\n      <td>nan</td>\n      <td>R</td>\n    </tr>\n    <tr>\n      <th>11</th>\n      <td>Ceftazidime</td>\n      <td>&gt;= 64</td>\n      <td>R</td>\n      <td>Tigecycline</td>\n      <td>nan</td>\n      <td>nan</td>\n    </tr>\n    <tr>\n      <th>12</th>\n      <td>+Ceftizoxime</td>\n      <td>nan</td>\n      <td>R</td>\n      <td>Colistin</td>\n      <td>nan</td>\n      <td>nan</td>\n    </tr>\n    <tr>\n      <th>13</th>\n      <td>+Ceftriaxone</td>\n      <td>nan</td>\n      <td>R</td>\n      <td>Trimethoprim/Sulfamethoxazole</td>\n      <td>&gt;= 320</td>\n      <td>R</td>\n    </tr>\n    <tr>\n      <th>14</th>\n      <td>Ceftazidime/Avibactam</td>\n      <td>nan</td>\n      <td>nan</td>\n      <td>nan</td>\n      <td>nan</td>\n      <td>nan</td>\n    </tr>\n  </tbody>\n</table>\n</div>"
     },
     "execution_count": 13,
     "metadata": {},
     "output_type": "execute_result"
    }
   ],
   "source": [
    "dfs[2]"
   ]
  },
  {
   "cell_type": "code",
   "execution_count": 14,
   "id": "e9178c76-ff7e-47c5-bbac-23e0f1b219c7",
   "metadata": {
    "tags": [],
    "ExecuteTime": {
     "end_time": "2025-03-16T12:13:58.715426Z",
     "start_time": "2025-03-16T12:13:58.703099Z"
    }
   },
   "outputs": [],
   "source": [
    "def clear_str(s):\n",
    "    string = s.replace(\"/ \", \"/\").replace(\"+\", \"\").rstrip().lstrip()\n",
    "    # string = string.replace('-','/').replace(\"=\",\"\")\n",
    "    # if not '/' in string and ' ' in string:\n",
    "    #     ind = string.index(' ')\n",
    "    #     string = string[0:ind]+'/'+ string[ind + 1:]\n",
    "        \n",
    "    if '/' in string:\n",
    "        index = string.index('/') + 1\n",
    "        modified_string = string[0].upper()+string[1:index].lower()+ string[index].upper() + string[index + 1:].lower()\n",
    "        return modified_string\n",
    "    else:\n",
    "        return string"
   ]
  },
  {
   "cell_type": "code",
   "execution_count": 15,
   "id": "38d2b59f-6c7c-44b7-83b3-4711018eec0c",
   "metadata": {
    "tags": [],
    "ExecuteTime": {
     "end_time": "2025-03-16T12:14:09.831116Z",
     "start_time": "2025-03-16T12:14:09.823759Z"
    }
   },
   "outputs": [],
   "source": [
    "import pandas as pd\n",
    "mdr_folder_path = './'\n",
    "new_column_dict = {}\n",
    "for filename in out_name:\n",
    "    file = pd.read_csv(mdr_folder_path+filename+'.csv')\n",
    "    cl = []\n",
    "    for x in file.columns:\n",
    "        if 'Antimicrobial' in x:\n",
    "                cl.append(x)\n",
    "    for x in cl:\n",
    "        antimicrobial_list = file.loc[:,x]\n",
    "        # print(antimicrobial_list)\n",
    "        for rl in antimicrobial_list:\n",
    "            if str(rl) == \"nan\":\n",
    "                continue\n",
    "            \n",
    "            rl0 = clear_str(str(rl))\n",
    "            if rl0=='Ertapenem':\n",
    "                print(rl)\n",
    "                print(filename)\n",
    "            \n",
    "            \n",
    "            # if rl0 ==   \"Rtrimethoprim/Sulfamethoxazole\": #\"Trimethoprim/Sulfamethoxazole\":\n",
    "            #     print(filename)\n",
    "            \n",
    "            _ = new_column_dict.setdefault('MIC_'+str(rl0), 'MIC_'+str(rl0))\n",
    "            _ = new_column_dict.setdefault(str(rl0), rl0)"
   ]
  },
  {
   "cell_type": "code",
   "execution_count": 16,
   "id": "e158bde1-6e17-4c15-8d49-565b2607e19b",
   "metadata": {
    "tags": [],
    "ExecuteTime": {
     "end_time": "2025-03-16T12:14:13.484143Z",
     "start_time": "2025-03-16T12:14:13.477530Z"
    }
   },
   "outputs": [
    {
     "name": "stdout",
     "output_type": "stream",
     "text": [
      "Amikacin\n",
      "Amoxicillin\n",
      "Amoxicillin/Clavulanic acid\n",
      "Ampicillin\n",
      "Ampicillin/Sulbactam\n",
      "Aztreonam\n",
      "Cefaclor\n",
      "Cefepime\n",
      "Cefixime\n",
      "Cefotaxime\n",
      "Cefpodoxime\n",
      "Ceftazidime\n",
      "Ceftazidime/Avibactam\n",
      "Ceftizoxime\n",
      "Ceftolozane/Tazobactam\n",
      "Ceftriaxone\n",
      "Cefuroxime\n",
      "Ciprofloxacin\n",
      "Colistin\n",
      "Gentamicin\n",
      "Imipenem\n",
      "Levofloxacin\n",
      "Meropenem\n",
      "Norfloxacin\n",
      "Ofloxacin\n",
      "Piperacillin\n",
      "Piperacillin/Tazobactam\n",
      "Tigecycline\n",
      "Trimethoprim/Sulfamethoxazole\n",
      "29\n"
     ]
    }
   ],
   "source": [
    "new_column_list = []\n",
    "new_column_name = []\n",
    "\n",
    "show_list = []\n",
    "for key,value in enumerate(new_column_dict):\n",
    "    new_column_name.append(new_column_dict[value])\n",
    "    new_column_list.append(value)\n",
    "    if not new_column_dict[value].startswith('MIC'):\n",
    "        show_list.append(new_column_dict[value])\n",
    "        # print(new_column_dict[value])\n",
    "        \n",
    "for x in sorted(show_list):  \n",
    "    print(x)\n",
    "print(len(show_list))"
   ]
  },
  {
   "cell_type": "code",
   "execution_count": 17,
   "id": "477aee57-21a6-4972-9d76-863f0834de21",
   "metadata": {
    "tags": [],
    "ExecuteTime": {
     "end_time": "2025-03-16T12:14:19.980822Z",
     "start_time": "2025-03-16T12:14:19.972983Z"
    }
   },
   "outputs": [],
   "source": [
    "sample_id = out_name\n",
    "data = [['NA'] * len(new_column_name) for _ in range(len(sample_id))]\n",
    "df_new = pd.DataFrame(data, columns = new_column_name)\n",
    "df_new.index =  sample_id"
   ]
  },
  {
   "cell_type": "code",
   "execution_count": 18,
   "id": "b0a14fed-33c5-47ca-8ee3-6fc9c5c2eec3",
   "metadata": {
    "tags": [],
    "ExecuteTime": {
     "end_time": "2025-03-16T12:14:24.295810Z",
     "start_time": "2025-03-16T12:14:24.272383Z"
    }
   },
   "outputs": [],
   "source": [
    "# df_new\n",
    "for filename in out_name:\n",
    "    file = pd.read_csv(mdr_folder_path+filename+'.csv')\n",
    "    # y = sample_id.index(filename)\n",
    "    y = filename\n",
    "    # print(y)\n",
    "    cl = []\n",
    "    inter  = []\n",
    "    mic = []\n",
    "    for x in file.columns:\n",
    "        if 'Antimicrobial' in x:\n",
    "            cl.append(x)\n",
    "        if 'Interpretation' in x:\n",
    "            inter.append(x)\n",
    "        if 'MIC' in x:\n",
    "            mic.append(x)\n",
    "\n",
    "    for c,i,m  in zip(cl,inter,mic):\n",
    "        antimicrobial_list = file.loc[:,c]\n",
    "        value =  file.loc[:,i]\n",
    "        mic_v =  file.loc[:,m]\n",
    "        for x in range(len(antimicrobial_list)):\n",
    "            \n",
    "            anti_str = clear_str(str(antimicrobial_list[x]))\n",
    "            # print(anti_str)\n",
    "            if  anti_str == 'nan':\n",
    "                continue\n",
    "            # if not value[x] == '-':\n",
    "                # print(new_column_dict[anti_str])\n",
    "            if not str(value[x]) == 'nan':\n",
    "                df_new.loc[y, new_column_dict[anti_str]]= value[x]\n",
    "                # print(new_column_dict['MIC_'+anti_str])\n",
    "            if not str(mic_v[x]) ==  'nan':\n",
    "                df_new.loc[y, new_column_dict['MIC_'+anti_str]]= mic_v[x]\n",
    "                    \n",
    "# df_new.index =  out_name\n",
    "df_new.to_csv(outputfilename)"
   ]
  }
 ],
 "metadata": {
  "kernelspec": {
   "display_name": "Python 3 (ipykernel)",
   "language": "python",
   "name": "python3"
  },
  "language_info": {
   "codemirror_mode": {
    "name": "ipython",
    "version": 3
   },
   "file_extension": ".py",
   "mimetype": "text/x-python",
   "name": "python",
   "nbconvert_exporter": "python",
   "pygments_lexer": "ipython3",
   "version": "3.11.5"
  }
 },
 "nbformat": 4,
 "nbformat_minor": 5
}
